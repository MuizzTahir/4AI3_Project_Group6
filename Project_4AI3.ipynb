{
  "nbformat": 4,
  "nbformat_minor": 0,
  "metadata": {
    "colab": {
      "provenance": [],
      "collapsed_sections": [
        "9BdrD52iEdzh",
        "uoEioZQ8NX_N",
        "w-t1STMn9vlv"
      ]
    },
    "kernelspec": {
      "name": "python3",
      "display_name": "Python 3"
    },
    "language_info": {
      "name": "python"
    },
    "gpuClass": "standard",
    "accelerator": "GPU"
  },
  "cells": [
    {
      "cell_type": "markdown",
      "source": [
        "# SMRTTECH 4AI3 - Project (Group 6)\n",
        "\n",
        "### APS System Failure\n",
        "\n",
        "### Team:\n",
        "- Muizz Raja (400198557)\n",
        "- Walid Alshareef (400208789)"
      ],
      "metadata": {
        "id": "QPnEZfjQOrVm"
      }
    },
    {
      "cell_type": "markdown",
      "source": [
        "#Import Libraries"
      ],
      "metadata": {
        "id": "X1w3YSTeM22r"
      }
    },
    {
      "cell_type": "code",
      "source": [
        "# Import required libraries\n",
        "import seaborn\n",
        "import numpy as np\n",
        "import pandas as pd\n",
        "import matplotlib.pyplot as plt\n",
        "from sklearn.preprocessing import StandardScaler, MinMaxScaler\n",
        "from imblearn.over_sampling import SMOTE\n",
        "from typing import Counter\n",
        "from sklearn.linear_model import LogisticRegression\n",
        "from sklearn.ensemble import RandomForestClassifier\n",
        "from sklearn.neighbors import KNeighborsClassifier\n",
        "from sklearn.model_selection import GridSearchCV\n",
        "from sklearn.metrics import confusion_matrix\n",
        "from sklearn.metrics import accuracy_score"
      ],
      "metadata": {
        "id": "KAfV7k6QPgH_"
      },
      "execution_count": null,
      "outputs": []
    },
    {
      "cell_type": "markdown",
      "source": [
        "#Data Visualization"
      ],
      "metadata": {
        "id": "6kFCNfy0M5EH"
      }
    },
    {
      "cell_type": "code",
      "source": [
        "# Read the csv file into a pandas dataframe\n",
        "df_train = pd.read_csv('aps_failure_training_set.csv', na_values=\"na\")"
      ],
      "metadata": {
        "id": "4EQ-KA32PpQa"
      },
      "execution_count": null,
      "outputs": []
    },
    {
      "cell_type": "code",
      "source": [
        "# Visualize neg vs pos data\n",
        "seaborn.histplot(data = df_train, x = 'class')\n",
        "plt.title(\"Negative vs Positive Data Samples\")\n",
        "plt.show()"
      ],
      "metadata": {
        "colab": {
          "base_uri": "https://localhost:8080/",
          "height": 295
        },
        "id": "g0SDv7OHP8MP",
        "outputId": "02a8804e-d8d6-4294-fe48-bd5942b6a681"
      },
      "execution_count": null,
      "outputs": [
        {
          "output_type": "display_data",
          "data": {
            "text/plain": [
              "<Figure size 432x288 with 1 Axes>"
            ],
            "image/png": "[encoded data removed]"
          },
          "metadata": {
            "needs_background": "light"
          }
        }
      ]
    },
    {
      "cell_type": "code",
      "source": [
        "# Visualize percentage of missing attributes by column\n",
        "fig, ax = plt.subplots(figsize=(25,10))\n",
        "null_data = df_train.isna().sum().div(df_train.shape[0]).mul(100).to_frame().sort_values(by=0, ascending = False)\n",
        "ax.bar(null_data.index, null_data.values.T[0])\n",
        "plt.xticks([])\n",
        "plt.ylabel(\"Missing Values (%)\")\n",
        "plt.title(\"Percentage of Missing Values Across Attributes\")\n",
        "plt.show()"
      ],
      "metadata": {
        "id": "vNPl47yje3qC",
        "outputId": "a23e711b-2c24-468d-9c6c-82323b24e6e6",
        "colab": {
          "base_uri": "https://localhost:8080/",
          "height": 597
        }
      },
      "execution_count": null,
      "outputs": [
        {
          "output_type": "display_data",
          "data": {
            "text/plain": [
              "<Figure size 1800x720 with 1 Axes>"
            ],
            "image/png": "[encoded data removed]"
          },
          "metadata": {
            "needs_background": "light"
          }
        }
      ]
    },
    {
      "cell_type": "markdown",
      "source": [
        "# Data Pre-Processing"
      ],
      "metadata": {
        "id": "Fxe3UVMNM7uQ"
      }
    },
    {
      "cell_type": "code",
      "source": [
        "# Assign neg and pos to 0 and 1 for easier classification\n",
        "df_train['class'] = (df_train['class'] == 'pos').astype(int)"
      ],
      "metadata": {
        "id": "Vc1uMP2f4TKc"
      },
      "execution_count": null,
      "outputs": []
    },
    {
      "cell_type": "code",
      "source": [
        "# Identify columns with over 50% data missing and drop them\n",
        "missing_values = ((df_train.isna().sum())/df_train.shape[0]).sort_values(ascending=False)\n",
        "above_50 = list(missing_values[missing_values > 0.5].index)\n",
        "new_train = df_train.drop(columns=above_50)\n",
        "new_train.shape"
      ],
      "metadata": {
        "id": "07VXZqiw40Cs",
        "colab": {
          "base_uri": "https://localhost:8080/"
        },
        "outputId": "d900f51b-00ce-4842-a17a-37b73944aa40"
      },
      "execution_count": null,
      "outputs": [
        {
          "output_type": "execute_result",
          "data": {
            "text/plain": [
              "(60000, 163)"
            ]
          },
          "metadata": {},
          "execution_count": 6
        }
      ]
    },
    {
      "cell_type": "code",
      "source": [
        "# Medain impute columns with below 50% data missing \n",
        "impute = lambda series: series.fillna(series.median())\n",
        "new_train = new_train.transform(impute)"
      ],
      "metadata": {
        "id": "XrAWpvgx5n0o"
      },
      "execution_count": null,
      "outputs": []
    },
    {
      "cell_type": "code",
      "source": [
        "# Seperate features and class labels\n",
        "x_train = new_train.drop('class',axis=1)\n",
        "y_train = new_train['class']"
      ],
      "metadata": {
        "id": "AXXm9Q3G2vpe"
      },
      "execution_count": null,
      "outputs": []
    },
    {
      "cell_type": "code",
      "source": [
        "# Normalize the data to bring into a similar range\n",
        "scaler = MinMaxScaler()\n",
        "x_scaled = pd.DataFrame(scaler.fit_transform(x_train), columns=x_train.columns)"
      ],
      "metadata": {
        "id": "_3kJ0Vb0tL2Z"
      },
      "execution_count": null,
      "outputs": []
    },
    {
      "cell_type": "code",
      "source": [
        "# Feature selection using lasso logisitic regression\n",
        "model = LogisticRegression(penalty='l1', solver='saga', max_iter=10000)\n",
        "model.fit(x_scaled, y_train)\n",
        "model.coef_"
      ],
      "metadata": {
        "id": "oQDIppJl6V3I",
        "colab": {
          "base_uri": "https://localhost:8080/"
        },
        "outputId": "a98c03a0-26d3-49c3-cb8d-e3de17181205"
      },
      "execution_count": null,
      "outputs": [
        {
          "output_type": "execute_result",
          "data": {
            "text/plain": [
              "array([[  8.89006271,  -0.96568392,   0.        ,   0.        ,\n",
              "          0.        ,   0.        ,   0.        ,   2.0995121 ,\n",
              "         20.37043871,   0.        ,   0.        ,   0.        ,\n",
              "         -3.17695404,   0.        ,   0.        ,   0.        ,\n",
              "          0.        ,  -0.58419261,   0.        ,   1.94037681,\n",
              "          0.        ,   2.73040069,   1.17769381,   0.        ,\n",
              "          7.14191924,   1.6600671 ,   0.        ,   2.71481356,\n",
              "          0.38092592,   0.        ,   0.        ,   8.62076655,\n",
              "          0.8960666 ,   0.55417366,   4.64043011,   0.        ,\n",
              "          3.56647826,  -2.68421191,  -3.68977265,   6.14256855,\n",
              "          0.        ,   0.        ,   0.        ,   0.        ,\n",
              "          2.76161459,   0.        ,   0.        ,   0.        ,\n",
              "          5.1314309 ,   0.        ,   0.        ,   0.        ,\n",
              "         -3.93026709,   0.        ,   0.        ,   0.        ,\n",
              "          0.        ,  -1.15463866,  -0.18191258,   0.        ,\n",
              "          0.        ,   0.        ,   0.        ,   0.37727016,\n",
              "          0.        ,   1.60765498,   0.        ,  -7.66062361,\n",
              "         -4.20867314,   0.        ,   2.19495575,  -1.13987423,\n",
              "          6.95771661,   0.        ,   0.08660813,   0.08707268,\n",
              "          0.        ,   4.77254557,  -2.9702243 ,   0.98728171,\n",
              "         -2.07019026,   0.47924206,   0.        ,   0.        ,\n",
              "          0.        ,   0.        ,   0.        ,   2.25495764,\n",
              "          5.02014459,   2.33348118,   1.28240868,   1.05740097,\n",
              "          0.        ,  16.83640376,   0.        ,  -5.91251275,\n",
              "          0.        ,   0.        ,  -9.01219638,   0.        ,\n",
              "          0.        ,   0.        ,   0.        ,  -0.07086679,\n",
              "          0.08621158,   0.        ,   0.        ,  -3.37728079,\n",
              "         -1.27671863,   0.        ,   0.        ,   0.        ,\n",
              "          0.        ,   0.        ,   0.        ,   0.        ,\n",
              "          0.        ,   0.        ,  -0.19044523,   0.48559198,\n",
              "          0.        ,   0.        ,   0.        ,   0.        ,\n",
              "         -1.86451768,   0.        ,   0.        ,   5.24415281,\n",
              "          0.        ,   1.94583525,   0.        ,   0.        ,\n",
              "          0.        ,   0.        ,   0.        ,   3.05366325,\n",
              "          0.        ,  -2.60645932,  -0.47356698,   0.        ,\n",
              "          4.14252713,  -2.23001055,  -0.6085467 ,  -1.81759608,\n",
              "          0.        ,   0.88641048,   0.        ,  -1.15912551,\n",
              "         -5.40968693,   2.65007483,   0.        ,   5.48395619,\n",
              "          0.        ,  -2.51848632,   0.        ,   5.90650272,\n",
              "          0.        , -23.99546513,   2.69653242,  -0.29155622,\n",
              "          0.        ,   0.        ]])"
            ]
          },
          "metadata": {},
          "execution_count": 10
        }
      ]
    },
    {
      "cell_type": "code",
      "source": [
        "# Measure the score of the feature selection model\n",
        "score = model.score(x_scaled, y_train)\n",
        "print(f\"The model has a performance of {score} on the training set.\")"
      ],
      "metadata": {
        "colab": {
          "base_uri": "https://localhost:8080/"
        },
        "id": "MZGL3ZwSzlef",
        "outputId": "72c59c6b-b8dc-4afa-dd8e-3fac4522d14a"
      },
      "execution_count": null,
      "outputs": [
        {
          "output_type": "stream",
          "name": "stdout",
          "text": [
            "The model has a performance of 0.9910333333333333 on the training set.\n"
          ]
        }
      ]
    },
    {
      "cell_type": "code",
      "source": [
        "# Select the useful features\n",
        "selected_features = x_scaled.columns[model.coef_[0] != 0]\n",
        "x_selected = x_scaled[selected_features]\n",
        "x_selected.shape"
      ],
      "metadata": {
        "colab": {
          "base_uri": "https://localhost:8080/"
        },
        "id": "b4ldqmj1r8F2",
        "outputId": "e83e7563-a54e-404c-e6ed-1f12fdfa9dcd"
      },
      "execution_count": null,
      "outputs": [
        {
          "output_type": "execute_result",
          "data": {
            "text/plain": [
              "(60000, 74)"
            ]
          },
          "metadata": {},
          "execution_count": 12
        }
      ]
    },
    {
      "cell_type": "code",
      "source": [
        "# Deal with imbalanced dataset\n",
        "oversample = SMOTE(sampling_strategy = 0.25)\n",
        "X, Y = oversample.fit_resample(x_selected, y_train)\n",
        "counter = Counter(Y)\n",
        "print(counter)"
      ],
      "metadata": {
        "id": "T4Si0EfLDddm",
        "colab": {
          "base_uri": "https://localhost:8080/"
        },
        "outputId": "26ccf8e1-ea13-4010-829f-e25404238bbc"
      },
      "execution_count": null,
      "outputs": [
        {
          "output_type": "stream",
          "name": "stdout",
          "text": [
            "Counter({0: 59000, 1: 14750})\n"
          ]
        }
      ]
    },
    {
      "cell_type": "markdown",
      "source": [
        "# Test Data Handling\n",
        "\n"
      ],
      "metadata": {
        "id": "9BdrD52iEdzh"
      }
    },
    {
      "cell_type": "code",
      "source": [
        "# Read the csv file into a pandas dataframe\n",
        "df_test = pd.read_csv('aps_failure_test_set.csv', na_values=\"na\")"
      ],
      "metadata": {
        "id": "7XlJs88FEiPN"
      },
      "execution_count": null,
      "outputs": []
    },
    {
      "cell_type": "code",
      "source": [
        "# Visualize neg vs pos data\n",
        "seaborn.histplot(data = df_test, x = 'class')\n",
        "plt.title(\"Negative vs Positive Data Samples\")\n",
        "plt.show()"
      ],
      "metadata": {
        "colab": {
          "base_uri": "https://localhost:8080/",
          "height": 295
        },
        "id": "ZtHTozY7I4Z7",
        "outputId": "9fe8b370-b542-42f3-ae82-978dc613bd1f"
      },
      "execution_count": null,
      "outputs": [
        {
          "output_type": "display_data",
          "data": {
            "text/plain": [
              "<Figure size 432x288 with 1 Axes>"
            ],
            "image/png": "[encoded data removed]"
          },
          "metadata": {
            "needs_background": "light"
          }
        }
      ]
    },
    {
      "cell_type": "code",
      "source": [
        "# Visualize percentage of missing attributes by column\n",
        "fig, ax = plt.subplots(figsize=(25,10))\n",
        "null_data_test = df_test.isna().sum().div(df_test.shape[0]).mul(100).to_frame().sort_values(by=0, ascending = False)\n",
        "ax.bar(null_data_test.index, null_data_test.values.T[0])\n",
        "plt.xticks([])\n",
        "plt.ylabel(\"Missing Values (%)\")\n",
        "plt.title(\"Percentage of Missing Values Across Attributes\")\n",
        "plt.show()"
      ],
      "metadata": {
        "colab": {
          "base_uri": "https://localhost:8080/",
          "height": 597
        },
        "id": "VnT2vc5yI9QU",
        "outputId": "fb93e41d-70bd-41d9-9a66-79a7d3e5ec1f"
      },
      "execution_count": null,
      "outputs": [
        {
          "output_type": "display_data",
          "data": {
            "text/plain": [
              "<Figure size 1800x720 with 1 Axes>"
            ],
            "image/png": "[encoded data removed]"
          },
          "metadata": {
            "needs_background": "light"
          }
        }
      ]
    },
    {
      "cell_type": "code",
      "source": [
        "# Assign neg and pos to 0 and 1 for easier classification\n",
        "df_test['class'] = (df_test['class'] == 'pos').astype(int)"
      ],
      "metadata": {
        "id": "Ah9Bt5C5E2m9"
      },
      "execution_count": null,
      "outputs": []
    },
    {
      "cell_type": "code",
      "source": [
        "# Identify columns with over 50% data missing and drop them\n",
        "missing_values_test = ((df_test.isna().sum())/df_test.shape[0]).sort_values(ascending=False)\n",
        "above_50_test = list(missing_values_test[missing_values_test > 0.5].index)\n",
        "new_test = df_test.drop(columns=above_50_test)\n",
        "new_test.shape"
      ],
      "metadata": {
        "colab": {
          "base_uri": "https://localhost:8080/"
        },
        "id": "l2Ph0PN5E-FQ",
        "outputId": "0d84f975-2dcd-4b37-ec04-2a9640d3eb73"
      },
      "execution_count": null,
      "outputs": [
        {
          "output_type": "execute_result",
          "data": {
            "text/plain": [
              "(16000, 163)"
            ]
          },
          "metadata": {},
          "execution_count": 18
        }
      ]
    },
    {
      "cell_type": "code",
      "source": [
        "# Medain impute columns with below 50% data missing using the train set median\n",
        "new_test = new_test.transform(impute)"
      ],
      "metadata": {
        "id": "LZaH8AZ6FjJt"
      },
      "execution_count": null,
      "outputs": []
    },
    {
      "cell_type": "code",
      "source": [
        "# Seperate features and class labels\n",
        "x_test = new_test.drop('class',axis=1)\n",
        "y_test = new_test['class']"
      ],
      "metadata": {
        "id": "uFNmxNRNGV7t"
      },
      "execution_count": null,
      "outputs": []
    },
    {
      "cell_type": "code",
      "source": [
        "# Normalize the data to bring into a similar range using normal transform\n",
        "x_test_scaled = pd.DataFrame(scaler.transform(x_test), columns=x_test.columns)"
      ],
      "metadata": {
        "id": "Ymd5V4zUF2j_"
      },
      "execution_count": null,
      "outputs": []
    },
    {
      "cell_type": "code",
      "source": [
        "# Testing the strength of features selected and resampling of underrepresented data on test data\n",
        "x_test_selected = x_test_scaled[selected_features]\n",
        "test_model = LogisticRegression(max_iter=10000)\n",
        "test_model.fit(X, Y)\n",
        "score = test_model.score(x_test_selected, y_test)\n",
        "print(f\"Our model had a performance of {score} on the test set.\")"
      ],
      "metadata": {
        "id": "fIZdcq0PGjm9",
        "colab": {
          "base_uri": "https://localhost:8080/"
        },
        "outputId": "35a2eebb-2c79-4187-cdb9-5b7b5d704111"
      },
      "execution_count": null,
      "outputs": [
        {
          "output_type": "stream",
          "name": "stdout",
          "text": [
            "Our model had a performance of 0.984375 on the test set.\n"
          ]
        }
      ]
    },
    {
      "cell_type": "code",
      "source": [
        "# Deal with imbalanced dataset\n",
        "oversample = SMOTE(sampling_strategy = 0.25)\n",
        "Xt, Yt = oversample.fit_resample(x_test_selected, y_test)\n",
        "countert = Counter(Yt)\n",
        "print(countert)"
      ],
      "metadata": {
        "id": "buPdrCKkHby-",
        "colab": {
          "base_uri": "https://localhost:8080/"
        },
        "outputId": "b5f67cff-4eb7-4aff-9621-649f1ef56daf"
      },
      "execution_count": null,
      "outputs": [
        {
          "output_type": "stream",
          "name": "stdout",
          "text": [
            "Counter({0: 15625, 1: 3906})\n"
          ]
        }
      ]
    },
    {
      "cell_type": "markdown",
      "source": [
        "#Model"
      ],
      "metadata": {
        "id": "uoEioZQ8NX_N"
      }
    },
    {
      "cell_type": "markdown",
      "source": [
        "Model 1: Logistic Regression"
      ],
      "metadata": {
        "id": "iIoSL6A2Goev"
      }
    },
    {
      "cell_type": "code",
      "source": [
        "model1 = LogisticRegression(solver='liblinear')\n",
        "model1.fit(X, Y)"
      ],
      "metadata": {
        "id": "tU6QUFPrGn6a",
        "colab": {
          "base_uri": "https://localhost:8080/"
        },
        "outputId": "bf504473-6e87-44c9-b4aa-b4a1d3ba20b1"
      },
      "execution_count": null,
      "outputs": [
        {
          "output_type": "execute_result",
          "data": {
            "text/plain": [
              "LogisticRegression(solver='liblinear')"
            ]
          },
          "metadata": {},
          "execution_count": 29
        }
      ]
    },
    {
      "cell_type": "code",
      "source": [
        "predictions1 = model1.predict(Xt)\n",
        "predictions1"
      ],
      "metadata": {
        "id": "VYY2GGvUI-SK",
        "colab": {
          "base_uri": "https://localhost:8080/"
        },
        "outputId": "b4a398e5-033b-41d8-ef25-65002aa99037"
      },
      "execution_count": null,
      "outputs": [
        {
          "output_type": "execute_result",
          "data": {
            "text/plain": [
              "array([0, 0, 0, ..., 1, 1, 1])"
            ]
          },
          "metadata": {},
          "execution_count": 30
        }
      ]
    },
    {
      "cell_type": "code",
      "source": [
        "percentage = model1.score(Xt, Yt)\n",
        "percentage"
      ],
      "metadata": {
        "id": "RuH1LVMOI6mm",
        "colab": {
          "base_uri": "https://localhost:8080/"
        },
        "outputId": "837a60b5-5422-4c82-a4d2-c8be4160b57a"
      },
      "execution_count": null,
      "outputs": [
        {
          "output_type": "execute_result",
          "data": {
            "text/plain": [
              "0.9640571399313911"
            ]
          },
          "metadata": {},
          "execution_count": 31
        }
      ]
    },
    {
      "cell_type": "markdown",
      "source": [
        "Model 2: Random Forest Classifier"
      ],
      "metadata": {
        "id": "D-1mhuytHqbj"
      }
    },
    {
      "cell_type": "code",
      "source": [
        "model2 = RandomForestClassifier(max_depth=5, random_state=10)\n",
        "model2.fit(X, Y)"
      ],
      "metadata": {
        "id": "31I8SR8wH3m-",
        "colab": {
          "base_uri": "https://localhost:8080/"
        },
        "outputId": "1f89f2f7-fe62-4520-c88a-6722fd580960"
      },
      "execution_count": null,
      "outputs": [
        {
          "output_type": "execute_result",
          "data": {
            "text/plain": [
              "RandomForestClassifier(max_depth=5, random_state=10)"
            ]
          },
          "metadata": {},
          "execution_count": 32
        }
      ]
    },
    {
      "cell_type": "code",
      "source": [
        "predictions2 = model2.predict(Xt)\n",
        "predictions2"
      ],
      "metadata": {
        "id": "tuSwZRmyOYsd",
        "colab": {
          "base_uri": "https://localhost:8080/"
        },
        "outputId": "bb8fdd2d-bd7d-4c3e-b9a7-8b7046c3a4d5"
      },
      "execution_count": null,
      "outputs": [
        {
          "output_type": "execute_result",
          "data": {
            "text/plain": [
              "array([0, 0, 0, ..., 1, 1, 1])"
            ]
          },
          "metadata": {},
          "execution_count": 33
        }
      ]
    },
    {
      "cell_type": "code",
      "source": [
        "percentage = model2.score(Xt, Yt)\n",
        "percentage"
      ],
      "metadata": {
        "id": "ghCqYgiaOaTt",
        "colab": {
          "base_uri": "https://localhost:8080/"
        },
        "outputId": "b48667de-d1c2-484e-f437-95e504d5909d"
      },
      "execution_count": null,
      "outputs": [
        {
          "output_type": "execute_result",
          "data": {
            "text/plain": [
              "0.9676411858071783"
            ]
          },
          "metadata": {},
          "execution_count": 34
        }
      ]
    },
    {
      "cell_type": "markdown",
      "source": [
        "Model 3: KNeighbours"
      ],
      "metadata": {
        "id": "7OJ2glYmSaxC"
      }
    },
    {
      "cell_type": "code",
      "source": [
        "model3 = KNeighborsClassifier(n_neighbors=8)\n",
        "model3.fit(X, Y)"
      ],
      "metadata": {
        "id": "h1seHPxfSdx9",
        "colab": {
          "base_uri": "https://localhost:8080/"
        },
        "outputId": "0c800c8c-fe64-4b21-da7b-c5fd2237faec"
      },
      "execution_count": null,
      "outputs": [
        {
          "output_type": "execute_result",
          "data": {
            "text/plain": [
              "KNeighborsClassifier(n_neighbors=8)"
            ]
          },
          "metadata": {},
          "execution_count": 35
        }
      ]
    },
    {
      "cell_type": "code",
      "source": [
        "predictions3 = model3.predict(Xt)\n",
        "predictions3"
      ],
      "metadata": {
        "id": "AgrqrMQ-S39B",
        "colab": {
          "base_uri": "https://localhost:8080/"
        },
        "outputId": "5ab25e2a-b190-4536-aaa0-b8293299b123"
      },
      "execution_count": null,
      "outputs": [
        {
          "output_type": "execute_result",
          "data": {
            "text/plain": [
              "array([0, 0, 0, ..., 1, 1, 1])"
            ]
          },
          "metadata": {},
          "execution_count": 36
        }
      ]
    },
    {
      "cell_type": "code",
      "source": [
        "percentage = model3.score(Xt, Yt)\n",
        "percentage"
      ],
      "metadata": {
        "id": "76DeENsxS6iA",
        "colab": {
          "base_uri": "https://localhost:8080/"
        },
        "outputId": "389ec5f5-f500-4ed2-ad69-592ecee3ee66"
      },
      "execution_count": null,
      "outputs": [
        {
          "output_type": "execute_result",
          "data": {
            "text/plain": [
              "0.9388664174901439"
            ]
          },
          "metadata": {},
          "execution_count": 36
        }
      ]
    },
    {
      "cell_type": "markdown",
      "source": [
        "#Hyper-Parameter Tuning"
      ],
      "metadata": {
        "id": "U2_g5s0wPDmE"
      }
    },
    {
      "cell_type": "markdown",
      "source": [
        "Model 1 parameter tuning and results"
      ],
      "metadata": {
        "id": "iSyQ4fDb3kiH"
      }
    },
    {
      "cell_type": "code",
      "source": [
        "params = {'C': 10**np.linspace(-5, 5, 11)}\n",
        "clf = GridSearchCV(model1, params, n_jobs=-1, verbose=1)\n",
        "clf.fit(X, Y)\n",
        "bs = clf.best_score_\n",
        "bp = clf.best_params_\n",
        "be = clf.best_estimator_\n",
        "predictions_hyper = be.predict(Xt)\n",
        "print(f\"The best model had the following parameters {bp} with this corresponding score {bs}\")\n",
        "tn, fp, fn, tp = confusion_matrix(Yt, predictions_hyper).ravel()\n",
        "tpr = tp/(tp + fn)\n",
        "tnr = tn/(tn + fp)\n",
        "print(f\"Our model performs with an accuracy of {tpr} on the positive class and {tnr} on the negative class.\")"
      ],
      "metadata": {
        "colab": {
          "base_uri": "https://localhost:8080/"
        },
        "id": "XpPlKux73OdO",
        "outputId": "0c65fa0d-b38e-4450-b587-1c20799f570e"
      },
      "execution_count": null,
      "outputs": [
        {
          "output_type": "stream",
          "name": "stdout",
          "text": [
            "Fitting 5 folds for each of 11 candidates, totalling 55 fits\n",
            "The best model had the following parameters {'C': 10000.0} with this corresponding score 0.967877966101695\n",
            "Our model performs with an accuracy of 0.8817204301075269 on the positive class and 0.988224 on the negative class.\n"
          ]
        }
      ]
    },
    {
      "cell_type": "markdown",
      "source": [
        "Model 2 parameter tuning and results"
      ],
      "metadata": {
        "id": "dVDQMHGw3r4i"
      }
    },
    {
      "cell_type": "code",
      "source": [
        "params = {'min_samples_split': [2, 4, 6, 8, 10], \n",
        "          'min_samples_leaf': [1, 2, 3, 4, 5]}\n",
        "clf = GridSearchCV(model2, params, n_jobs=-1, verbose=1)\n",
        "clf.fit(X, Y)\n",
        "bs = clf.best_score_\n",
        "bp = clf.best_params_\n",
        "be = clf.best_estimator_\n",
        "predictions_hyper = be.predict(Xt)\n",
        "print(f\"The best model had the following parameters {bp} with this corresponding score {bs}\")\n",
        "tn, fp, fn, tp = confusion_matrix(Yt, predictions_hyper).ravel()\n",
        "tpr = tp/(tp + fn)\n",
        "tnr = tn/(tn + fp)\n",
        "print(f\"Our model performs with an accuracy of {tpr} on the positive class and {tnr} on the negative class.\")"
      ],
      "metadata": {
        "colab": {
          "base_uri": "https://localhost:8080/"
        },
        "id": "eJ4WwUc93T8w",
        "outputId": "ea63f1bb-d16c-4ae1-e0bd-459482c72902"
      },
      "execution_count": null,
      "outputs": [
        {
          "output_type": "stream",
          "name": "stdout",
          "text": [
            "Fitting 5 folds for each of 25 candidates, totalling 125 fits\n",
            "The best model had the following parameters {'min_samples_leaf': 1, 'min_samples_split': 6} with this corresponding score 0.9654237288135594\n",
            "Our model performs with an accuracy of 0.9467485919098823 on the positive class and 0.973056 on the negative class.\n"
          ]
        }
      ]
    },
    {
      "cell_type": "markdown",
      "source": [
        "Model 3 parameter tuning and results"
      ],
      "metadata": {
        "id": "ZbxgSpe93veI"
      }
    },
    {
      "cell_type": "code",
      "source": [
        "params = {'n_neighbors': [5, 10, 15, 20, 25]}\n",
        "clf = GridSearchCV(model3, params, n_jobs=-1, verbose=1)\n",
        "clf.fit(X, Y)\n",
        "bs = clf.best_score_\n",
        "bp = clf.best_params_\n",
        "be = clf.best_estimator_\n",
        "predictions_hyper = be.predict(Xt)\n",
        "print(f\"The best model had the following parameters {bp} with this corresponding score {bs}\")\n",
        "tn, fp, fn, tp = confusion_matrix(Yt, predictions_hyper).ravel()\n",
        "tpr = tp/(tp + fn)\n",
        "tnr = tn/(tn + fp)\n",
        "print(f\"Our model performs with an accuracy of {tpr} on the positive class and {tnr} on the negative class.\")"
      ],
      "metadata": {
        "colab": {
          "base_uri": "https://localhost:8080/"
        },
        "id": "7zrNoVXt3XCc",
        "outputId": "693e40a5-9735-4b4f-e5da-ef1d0dcbacd5"
      },
      "execution_count": null,
      "outputs": [
        {
          "output_type": "stream",
          "name": "stdout",
          "text": [
            "Fitting 5 folds for each of 5 candidates, totalling 25 fits\n"
          ]
        },
        {
          "output_type": "stream",
          "name": "stderr",
          "text": [
            "/usr/local/lib/python3.8/dist-packages/joblib/externals/loky/process_executor.py:700: UserWarning: A worker stopped while some jobs were given to the executor. This can be caused by a too short worker timeout or by a memory leak.\n",
            "  warnings.warn(\n"
          ]
        },
        {
          "output_type": "stream",
          "name": "stdout",
          "text": [
            "The best model had the following parameters {'n_neighbors': 5} with this corresponding score 0.9840406779661016\n",
            "Our model performs with an accuracy of 0.8653353814644137 on the positive class and 0.984384 on the negative class.\n"
          ]
        }
      ]
    },
    {
      "cell_type": "markdown",
      "source": [
        "# References"
      ],
      "metadata": {
        "id": "RymQIqAqIiFO"
      }
    },
    {
      "cell_type": "markdown",
      "source": [
        "datark1. (2021, June 6). Scania APS failures - A pipeline with PCA and ML. Kaggle. Retrieved\n",
        "November 10, 2022, from\n",
        "https://www.kaggle.com/code/datark1/scania-aps-failures-a-pipeline-with-pca-and-ml\n",
        "\n",
        "Kavish111. (2022, May 30). Handling imbalanced data with imbalance-learn in Python. Analytics Vidhya. Retrieved November 29, 2022, from https://www.analyticsvidhya.com/blog/2022/05/handling-imbalanced-data-with-imbalance-learn-in-python/ \n",
        "\n",
        "Shetty, R. (2021, January 2). Predicting a failure in Scania’s air pressure system (APS).\n",
        "Predicting a Failure in Scania’s Air Pressure System. Retrieved November 10, 2022, from\n",
        "https://towardsdatascience.com/predicting-a-failure-in-scanias-air-pressure-system-aps-c260bcc4\n",
        "d038\n",
        "\n",
        "Sklearn.linear_model.logisticregression. scikit. (n.d.). Retrieved November 29, 2022, from https://scikit-learn.org/stable/modules/generated/sklearn.linear_model.LogisticRegression.html \n",
        "\n",
        "Sklearn.ensemble.randomforestclassifier. scikit. (n.d.). Retrieved November 29, 2022, from https://scikit-learn.org/stable/modules/generated/sklearn.ensemble.RandomForestClassifier.html \n",
        "\n",
        "Sklearn.neighbors.kneighborsclassifier. scikit. (n.d.). Retrieved November 29, 2022, from https://scikit-learn.org/stable/modules/generated/sklearn.neighbors.KNeighborsClassifier.html \n",
        "\n",
        "Sklearn.model_selection.GRIDSEARCHCV. scikit. (n.d.). Retrieved December 6, 2022, from https://scikit-learn.org/stable/modules/generated/sklearn.model_selection.GridSearchCV.html# \n",
        "\n",
        "Smote#. SMOTE - Version 0.9.1. (n.d.). Retrieved December 4, 2022, from https://imbalanced-learn.org/stable/references/generated/imblearn.over_sampling.SMOTE.html "
      ],
      "metadata": {
        "id": "cxwnDNYSIlqh"
      }
    }
  ]
}